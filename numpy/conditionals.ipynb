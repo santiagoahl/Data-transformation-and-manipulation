{
  "nbformat": 4,
  "nbformat_minor": 0,
  "metadata": {
    "colab": {
      "provenance": [],
      "authorship_tag": "ABX9TyN99OxP4KNQZnBEptjiyUWA",
      "include_colab_link": true
    },
    "kernelspec": {
      "name": "python3",
      "display_name": "Python 3"
    },
    "language_info": {
      "name": "python"
    }
  },
  "cells": [
    {
      "cell_type": "markdown",
      "metadata": {
        "id": "view-in-github",
        "colab_type": "text"
      },
      "source": [
        "<a href=\"https://colab.research.google.com/github/santiagoahl/Data-transformation-and-manipulation/blob/main/numPy_conditionals.ipynb\" target=\"_parent\"><img src=\"https://colab.research.google.com/assets/colab-badge.svg\" alt=\"Open In Colab\"/></a>"
      ]
    },
    {
      "cell_type": "markdown",
      "source": [
        "# Coditionals\n",
        "What if we want to get specific values from an array according with some specific condition? We should use **conditions**.They are very useful in order to implement a filtering process in an array."
      ],
      "metadata": {
        "id": "aTFIww7KH3n7"
      }
    },
    {
      "cell_type": "code",
      "execution_count": 1,
      "metadata": {
        "id": "uWY8rb-TH3Nz"
      },
      "outputs": [],
      "source": [
        "import numpy as np"
      ]
    },
    {
      "cell_type": "code",
      "source": [
        "arr = np.linspace(1,10,10,dtype='int8')\n",
        "arr"
      ],
      "metadata": {
        "colab": {
          "base_uri": "https://localhost:8080/"
        },
        "id": "JMraDym8IIZc",
        "outputId": "d8b8a8fa-c1f1-44f6-fbc7-f507ada3420a"
      },
      "execution_count": 11,
      "outputs": [
        {
          "output_type": "execute_result",
          "data": {
            "text/plain": [
              "array([ 1,  2,  3,  4,  5,  6,  7,  8,  9, 10], dtype=int8)"
            ]
          },
          "metadata": {},
          "execution_count": 11
        }
      ]
    },
    {
      "cell_type": "code",
      "source": [
        "#Boolean condition that we can use\n",
        "arr > 5"
      ],
      "metadata": {
        "colab": {
          "base_uri": "https://localhost:8080/"
        },
        "id": "QpUsmhG7IOD2",
        "outputId": "628ae625-6b49-4900-d6fa-be51393423d3"
      },
      "execution_count": 3,
      "outputs": [
        {
          "output_type": "execute_result",
          "data": {
            "text/plain": [
              "array([False, False, False, False, False,  True,  True,  True,  True,\n",
              "        True])"
            ]
          },
          "metadata": {},
          "execution_count": 3
        }
      ]
    },
    {
      "cell_type": "code",
      "source": [
        "index_condition_1 = arr > 5\n",
        "index_condition_2 = arr < 9\n",
        "index_condition"
      ],
      "metadata": {
        "colab": {
          "base_uri": "https://localhost:8080/"
        },
        "id": "GfyoMNGjIgO7",
        "outputId": "8b7b45aa-e546-4678-d241-8ebf72507d76"
      },
      "execution_count": 6,
      "outputs": [
        {
          "output_type": "execute_result",
          "data": {
            "text/plain": [
              "array([False, False, False, False, False,  True,  True,  True,  True,\n",
              "        True])"
            ]
          },
          "metadata": {},
          "execution_count": 6
        }
      ]
    },
    {
      "cell_type": "code",
      "source": [
        "arr[(index_condition_1) & (index_condition_2)]"
      ],
      "metadata": {
        "colab": {
          "base_uri": "https://localhost:8080/"
        },
        "id": "tPUcvKeQIliW",
        "outputId": "31749767-251c-48cc-e984-6c93910a97ba"
      },
      "execution_count": 8,
      "outputs": [
        {
          "output_type": "execute_result",
          "data": {
            "text/plain": [
              "array([6, 7, 8], dtype=int8)"
            ]
          },
          "metadata": {},
          "execution_count": 8
        }
      ]
    },
    {
      "cell_type": "code",
      "source": [
        "#Assigning from conditions\n",
        "arr[arr>5] = 99\n",
        "arr"
      ],
      "metadata": {
        "colab": {
          "base_uri": "https://localhost:8080/"
        },
        "id": "mYV3uuTxI9Cu",
        "outputId": "6db5f495-9dc7-40da-f19d-2f62159338ac"
      },
      "execution_count": 9,
      "outputs": [
        {
          "output_type": "execute_result",
          "data": {
            "text/plain": [
              "array([ 1,  2,  3,  4,  5, 99, 99, 99, 99, 99], dtype=int8)"
            ]
          },
          "metadata": {},
          "execution_count": 9
        }
      ]
    },
    {
      "cell_type": "markdown",
      "source": [
        "## Another conditions"
      ],
      "metadata": {
        "id": "_BrizmLdJd39"
      }
    },
    {
      "cell_type": "code",
      "source": [
        "#Divisibility\n",
        "mod_condition = arr%3==0\n",
        "arr[(mod_condition)]"
      ],
      "metadata": {
        "colab": {
          "base_uri": "https://localhost:8080/"
        },
        "id": "8ZfrsBoDJf6V",
        "outputId": "9ed643a7-1954-4944-b5e0-c24fadce9d11"
      },
      "execution_count": 12,
      "outputs": [
        {
          "output_type": "execute_result",
          "data": {
            "text/plain": [
              "array([3, 6, 9], dtype=int8)"
            ]
          },
          "metadata": {},
          "execution_count": 12
        }
      ]
    },
    {
      "cell_type": "markdown",
      "source": [
        "Else if schema: `np.where(condition, if value, else value)`"
      ],
      "metadata": {
        "id": "qrSKhbfzKEzn"
      }
    },
    {
      "cell_type": "code",
      "source": [
        "np.where(arr%2==1,1,0)"
      ],
      "metadata": {
        "colab": {
          "base_uri": "https://localhost:8080/"
        },
        "id": "aDpi5-dlKWFM",
        "outputId": "1a45a835-4455-4367-b21b-bd0d85f8b8b3"
      },
      "execution_count": 13,
      "outputs": [
        {
          "output_type": "execute_result",
          "data": {
            "text/plain": [
              "array([1, 0, 1, 0, 1, 0, 1, 0, 1, 0])"
            ]
          },
          "metadata": {},
          "execution_count": 13
        }
      ]
    },
    {
      "cell_type": "markdown",
      "source": [
        "We can even use this conditions with lambda functions:\n",
        "\n",
        "\n",
        "```\n",
        "arr = np.arange(1,11)\n",
        "\n",
        "def number_is_even(num):\n",
        "    return num % 2 == 0\n",
        "\n",
        "\n",
        "number_is_even(arr)\n",
        "\n",
        "lambda_func = lambda x: x % 2 == 0\n",
        "\n",
        "lambda_func(arr)\n",
        "```\n",
        "\n"
      ],
      "metadata": {
        "id": "ypUhRmyyKlHr"
      }
    }
  ]
}
