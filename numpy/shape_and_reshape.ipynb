{
  "nbformat": 4,
  "nbformat_minor": 0,
  "metadata": {
    "colab": {
      "provenance": [],
      "collapsed_sections": [],
      "authorship_tag": "ABX9TyN2jArTM936u51qit1Vb8iy",
      "include_colab_link": true
    },
    "kernelspec": {
      "name": "python3",
      "display_name": "Python 3"
    },
    "language_info": {
      "name": "python"
    }
  },
  "cells": [
    {
      "cell_type": "markdown",
      "metadata": {
        "id": "view-in-github",
        "colab_type": "text"
      },
      "source": [
        "<a href=\"https://colab.research.google.com/github/santiagoahl/Data-transformation-and-manipulation/blob/main/shape_and_reshape.ipynb\" target=\"_parent\"><img src=\"https://colab.research.google.com/assets/colab-badge.svg\" alt=\"Open In Colab\"/></a>"
      ]
    },
    {
      "cell_type": "code",
      "execution_count": 1,
      "metadata": {
        "id": "ep98EgNR68T0"
      },
      "outputs": [],
      "source": [
        "import numpy as np"
      ]
    },
    {
      "cell_type": "code",
      "source": [
        "np_array = np.random.randint(1,10,(3,2))\n",
        "np_array"
      ],
      "metadata": {
        "colab": {
          "base_uri": "https://localhost:8080/"
        },
        "id": "MYZAGsG37AoN",
        "outputId": "8b7e1a95-b677-4d5e-a69b-5d643becc8f6"
      },
      "execution_count": 5,
      "outputs": [
        {
          "output_type": "execute_result",
          "data": {
            "text/plain": [
              "array([[5, 2],\n",
              "       [3, 4],\n",
              "       [8, 4]])"
            ]
          },
          "metadata": {},
          "execution_count": 5
        }
      ]
    },
    {
      "cell_type": "code",
      "source": [
        "#Evaluate de dimensions of ur NumPy array\n",
        "np_array.shape"
      ],
      "metadata": {
        "colab": {
          "base_uri": "https://localhost:8080/"
        },
        "id": "4xUGLoZt7GTh",
        "outputId": "89f56ea9-a9cc-4603-9ba5-f443155508b2"
      },
      "execution_count": 3,
      "outputs": [
        {
          "output_type": "execute_result",
          "data": {
            "text/plain": [
              "(3, 2)"
            ]
          },
          "metadata": {},
          "execution_count": 3
        }
      ]
    },
    {
      "cell_type": "code",
      "source": [
        "#Modify de shape of ur NumPy array\n",
        "np_array.reshape(1,6)"
      ],
      "metadata": {
        "colab": {
          "base_uri": "https://localhost:8080/"
        },
        "id": "Pv97Q_Zj7OU-",
        "outputId": "fd7bb18e-23a7-4582-daf7-6f1362525a2a"
      },
      "execution_count": 7,
      "outputs": [
        {
          "output_type": "execute_result",
          "data": {
            "text/plain": [
              "array([[5, 2, 3, 4, 8, 4]])"
            ]
          },
          "metadata": {},
          "execution_count": 7
        }
      ]
    },
    {
      "cell_type": "code",
      "source": [
        "#Modify de shape of ur NumPy array\n",
        "np_array.reshape(2,3) #It becomes equal as the begin"
      ],
      "metadata": {
        "colab": {
          "base_uri": "https://localhost:8080/"
        },
        "id": "vMHP7RaG7jVB",
        "outputId": "570847c3-75f2-4e9f-e4cc-5c71be69fabf"
      },
      "execution_count": 8,
      "outputs": [
        {
          "output_type": "execute_result",
          "data": {
            "text/plain": [
              "array([[5, 2, 3],\n",
              "       [4, 8, 4]])"
            ]
          },
          "metadata": {},
          "execution_count": 8
        }
      ]
    },
    {
      "cell_type": "code",
      "source": [
        "np.reshape(np_array,(1,6))"
      ],
      "metadata": {
        "colab": {
          "base_uri": "https://localhost:8080/"
        },
        "id": "12hMnuNY7sSL",
        "outputId": "48dd9fdf-bfc6-4a77-bf42-ac3ec4c91136"
      },
      "execution_count": 9,
      "outputs": [
        {
          "output_type": "execute_result",
          "data": {
            "text/plain": [
              "array([[5, 2, 3, 4, 8, 4]])"
            ]
          },
          "metadata": {},
          "execution_count": 9
        }
      ]
    },
    {
      "cell_type": "markdown",
      "source": [
        "## Distict languages reshaping"
      ],
      "metadata": {
        "id": "vSOeLPhB79dp"
      }
    },
    {
      "cell_type": "code",
      "source": [
        "#Original array\n",
        "np_array"
      ],
      "metadata": {
        "colab": {
          "base_uri": "https://localhost:8080/"
        },
        "id": "L7hmjNQ28QDj",
        "outputId": "7bf38ddd-5ca7-41ad-9705-61e397cda828"
      },
      "execution_count": 12,
      "outputs": [
        {
          "output_type": "execute_result",
          "data": {
            "text/plain": [
              "array([[5, 2],\n",
              "       [3, 4],\n",
              "       [8, 4]])"
            ]
          },
          "metadata": {},
          "execution_count": 12
        }
      ]
    },
    {
      "cell_type": "code",
      "source": [
        "#C Language way\n",
        "np.reshape(np_array, (2,3), 'C')"
      ],
      "metadata": {
        "colab": {
          "base_uri": "https://localhost:8080/"
        },
        "id": "s7ugqFMl8Xta",
        "outputId": "e114f1cb-73db-4339-ea50-776aeaf7bf2f"
      },
      "execution_count": 10,
      "outputs": [
        {
          "output_type": "execute_result",
          "data": {
            "text/plain": [
              "array([[5, 2, 3],\n",
              "       [4, 8, 4]])"
            ]
          },
          "metadata": {},
          "execution_count": 10
        }
      ]
    },
    {
      "cell_type": "code",
      "source": [
        "#Fortran Language way\n",
        "np.reshape(np_array, (2,3), 'F')"
      ],
      "metadata": {
        "colab": {
          "base_uri": "https://localhost:8080/"
        },
        "id": "JpA4wYyF8gj1",
        "outputId": "6944961b-1a4b-47ad-d7eb-3a42eb44c859"
      },
      "execution_count": 11,
      "outputs": [
        {
          "output_type": "execute_result",
          "data": {
            "text/plain": [
              "array([[5, 8, 4],\n",
              "       [3, 2, 4]])"
            ]
          },
          "metadata": {},
          "execution_count": 11
        }
      ]
    },
    {
      "cell_type": "code",
      "source": [
        "#My Laptop best way\n",
        "np.reshape(np_array, (2,3), 'A')"
      ],
      "metadata": {
        "colab": {
          "base_uri": "https://localhost:8080/"
        },
        "id": "gHBDFDIf8q3y",
        "outputId": "9851edb4-b130-47e1-9f20-7a091fffeac9"
      },
      "execution_count": 13,
      "outputs": [
        {
          "output_type": "execute_result",
          "data": {
            "text/plain": [
              "array([[5, 2, 3],\n",
              "       [4, 8, 4]])"
            ]
          },
          "metadata": {},
          "execution_count": 13
        }
      ]
    },
    {
      "cell_type": "markdown",
      "source": [
        "## Tensor shaping"
      ],
      "metadata": {
        "id": "1I97kYLe_MlG"
      }
    },
    {
      "cell_type": "code",
      "source": [
        "my_tensor = np.random.rand(3,3,4,5)\n",
        "my_tensor"
      ],
      "metadata": {
        "colab": {
          "base_uri": "https://localhost:8080/"
        },
        "id": "C16eTkoS_OUR",
        "outputId": "278780ac-e63a-4177-f3df-148cf46e30e7"
      },
      "execution_count": 14,
      "outputs": [
        {
          "output_type": "execute_result",
          "data": {
            "text/plain": [
              "array([[[[0.73397027, 0.49731989, 0.7462874 , 0.86555417, 0.020604  ],\n",
              "         [0.31133442, 0.54234953, 0.16461562, 0.05614326, 0.19837459],\n",
              "         [0.41026279, 0.64282115, 0.47350107, 0.44738004, 0.68047045],\n",
              "         [0.86130166, 0.60354519, 0.14349418, 0.59309441, 0.99886382]],\n",
              "\n",
              "        [[0.70673355, 0.46865626, 0.88382299, 0.1748958 , 0.88017656],\n",
              "         [0.18004044, 0.92849139, 0.95306363, 0.37391307, 0.20821127],\n",
              "         [0.99159752, 0.52794068, 0.29741963, 0.30555868, 0.99740667],\n",
              "         [0.523868  , 0.75117294, 0.81681613, 0.75104763, 0.54766922]],\n",
              "\n",
              "        [[0.85147955, 0.3342603 , 0.00993927, 0.65357   , 0.87559192],\n",
              "         [0.19345966, 0.91163983, 0.28504964, 0.15911462, 0.45599893],\n",
              "         [0.40756581, 0.14073802, 0.62864973, 0.17331523, 0.22422608],\n",
              "         [0.34027067, 0.77664346, 0.80074394, 0.44580881, 0.24367465]]],\n",
              "\n",
              "\n",
              "       [[[0.76327384, 0.27928713, 0.24730828, 0.53082823, 0.00955976],\n",
              "         [0.27110771, 0.12630316, 0.81213005, 0.49549674, 0.68975051],\n",
              "         [0.55836509, 0.33867304, 0.58272295, 0.64082586, 0.80064286],\n",
              "         [0.3570944 , 0.36198051, 0.63421259, 0.1205785 , 0.47467842]],\n",
              "\n",
              "        [[0.42242381, 0.12662402, 0.89282265, 0.5829908 , 0.0500643 ],\n",
              "         [0.03182294, 0.30465444, 0.20907193, 0.62475686, 0.22620114],\n",
              "         [0.8582334 , 0.9428641 , 0.65295093, 0.28384227, 0.17089849],\n",
              "         [0.9727784 , 0.08931293, 0.97848959, 0.59501341, 0.13089901]],\n",
              "\n",
              "        [[0.26680816, 0.94586053, 0.67657622, 0.16789865, 0.06416818],\n",
              "         [0.80498598, 0.34379787, 0.1414504 , 0.06684279, 0.26748535],\n",
              "         [0.88463678, 0.00540656, 0.55951537, 0.41248223, 0.75985839],\n",
              "         [0.92507082, 0.21364706, 0.60908571, 0.52583557, 0.61337131]]],\n",
              "\n",
              "\n",
              "       [[[0.85352689, 0.50408806, 0.12325216, 0.71699799, 0.47096884],\n",
              "         [0.92306868, 0.75210899, 0.34206013, 0.8290517 , 0.31175581],\n",
              "         [0.41041313, 0.0507505 , 0.65917351, 0.45839238, 0.84717765],\n",
              "         [0.09880004, 0.22827949, 0.37261998, 0.1456076 , 0.53160717]],\n",
              "\n",
              "        [[0.78195583, 0.17688094, 0.95086539, 0.56604552, 0.56633809],\n",
              "         [0.20033298, 0.44889009, 0.21348959, 0.5433696 , 0.33428082],\n",
              "         [0.59521147, 0.23751721, 0.89859316, 0.63935663, 0.54205831],\n",
              "         [0.57323027, 0.16512846, 0.09877235, 0.37443928, 0.03536028]],\n",
              "\n",
              "        [[0.81888431, 0.55533699, 0.69938058, 0.59598356, 0.61478986],\n",
              "         [0.61682409, 0.09638073, 0.62898876, 0.15690518, 0.22270388],\n",
              "         [0.18106339, 0.65604694, 0.85659704, 0.89320729, 0.2184782 ],\n",
              "         [0.00227061, 0.45542867, 0.83015357, 0.73918378, 0.72094889]]]])"
            ]
          },
          "metadata": {},
          "execution_count": 14
        }
      ]
    },
    {
      "cell_type": "code",
      "source": [
        "np.reshape(my_tensor,(9,20))"
      ],
      "metadata": {
        "colab": {
          "base_uri": "https://localhost:8080/"
        },
        "id": "DhR4VCe9_Rx4",
        "outputId": "47a30018-f502-4fcf-d733-354fdddad1bf"
      },
      "execution_count": 15,
      "outputs": [
        {
          "output_type": "execute_result",
          "data": {
            "text/plain": [
              "array([[0.73397027, 0.49731989, 0.7462874 , 0.86555417, 0.020604  ,\n",
              "        0.31133442, 0.54234953, 0.16461562, 0.05614326, 0.19837459,\n",
              "        0.41026279, 0.64282115, 0.47350107, 0.44738004, 0.68047045,\n",
              "        0.86130166, 0.60354519, 0.14349418, 0.59309441, 0.99886382],\n",
              "       [0.70673355, 0.46865626, 0.88382299, 0.1748958 , 0.88017656,\n",
              "        0.18004044, 0.92849139, 0.95306363, 0.37391307, 0.20821127,\n",
              "        0.99159752, 0.52794068, 0.29741963, 0.30555868, 0.99740667,\n",
              "        0.523868  , 0.75117294, 0.81681613, 0.75104763, 0.54766922],\n",
              "       [0.85147955, 0.3342603 , 0.00993927, 0.65357   , 0.87559192,\n",
              "        0.19345966, 0.91163983, 0.28504964, 0.15911462, 0.45599893,\n",
              "        0.40756581, 0.14073802, 0.62864973, 0.17331523, 0.22422608,\n",
              "        0.34027067, 0.77664346, 0.80074394, 0.44580881, 0.24367465],\n",
              "       [0.76327384, 0.27928713, 0.24730828, 0.53082823, 0.00955976,\n",
              "        0.27110771, 0.12630316, 0.81213005, 0.49549674, 0.68975051,\n",
              "        0.55836509, 0.33867304, 0.58272295, 0.64082586, 0.80064286,\n",
              "        0.3570944 , 0.36198051, 0.63421259, 0.1205785 , 0.47467842],\n",
              "       [0.42242381, 0.12662402, 0.89282265, 0.5829908 , 0.0500643 ,\n",
              "        0.03182294, 0.30465444, 0.20907193, 0.62475686, 0.22620114,\n",
              "        0.8582334 , 0.9428641 , 0.65295093, 0.28384227, 0.17089849,\n",
              "        0.9727784 , 0.08931293, 0.97848959, 0.59501341, 0.13089901],\n",
              "       [0.26680816, 0.94586053, 0.67657622, 0.16789865, 0.06416818,\n",
              "        0.80498598, 0.34379787, 0.1414504 , 0.06684279, 0.26748535,\n",
              "        0.88463678, 0.00540656, 0.55951537, 0.41248223, 0.75985839,\n",
              "        0.92507082, 0.21364706, 0.60908571, 0.52583557, 0.61337131],\n",
              "       [0.85352689, 0.50408806, 0.12325216, 0.71699799, 0.47096884,\n",
              "        0.92306868, 0.75210899, 0.34206013, 0.8290517 , 0.31175581,\n",
              "        0.41041313, 0.0507505 , 0.65917351, 0.45839238, 0.84717765,\n",
              "        0.09880004, 0.22827949, 0.37261998, 0.1456076 , 0.53160717],\n",
              "       [0.78195583, 0.17688094, 0.95086539, 0.56604552, 0.56633809,\n",
              "        0.20033298, 0.44889009, 0.21348959, 0.5433696 , 0.33428082,\n",
              "        0.59521147, 0.23751721, 0.89859316, 0.63935663, 0.54205831,\n",
              "        0.57323027, 0.16512846, 0.09877235, 0.37443928, 0.03536028],\n",
              "       [0.81888431, 0.55533699, 0.69938058, 0.59598356, 0.61478986,\n",
              "        0.61682409, 0.09638073, 0.62898876, 0.15690518, 0.22270388,\n",
              "        0.18106339, 0.65604694, 0.85659704, 0.89320729, 0.2184782 ,\n",
              "        0.00227061, 0.45542867, 0.83015357, 0.73918378, 0.72094889]])"
            ]
          },
          "metadata": {},
          "execution_count": 15
        }
      ]
    }
  ]
}
